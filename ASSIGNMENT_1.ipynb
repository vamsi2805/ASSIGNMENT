{
  "nbformat": 4,
  "nbformat_minor": 0,
  "metadata": {
    "colab": {
      "name": "ASSIGNMENT-1",
      "provenance": [],
      "collapsed_sections": [],
      "authorship_tag": "ABX9TyNQH8giYhnf0SKVRzUOTJRH",
      "include_colab_link": true
    },
    "kernelspec": {
      "name": "python3",
      "display_name": "Python 3"
    }
  },
  "cells": [
    {
      "cell_type": "markdown",
      "metadata": {
        "id": "view-in-github",
        "colab_type": "text"
      },
      "source": [
        "<a href=\"https://colab.research.google.com/github/vamsi2805/ASSIGNMENT/blob/master/ASSIGNMENT_1.ipynb\" target=\"_parent\"><img src=\"https://colab.research.google.com/assets/colab-badge.svg\" alt=\"Open In Colab\"/></a>"
      ]
    },
    {
      "cell_type": "markdown",
      "metadata": {
        "id": "tsut_Vxq8yTL",
        "colab_type": "text"
      },
      "source": [
        "ADDITION PROGRAM"
      ]
    },
    {
      "cell_type": "code",
      "metadata": {
        "id": "e_tzqegT8-H5",
        "colab_type": "code",
        "colab": {
          "base_uri": "https://localhost:8080/",
          "height": 34
        },
        "outputId": "ebe78320-ef45-4c28-8a2f-adedf0f2c8c2"
      },
      "source": [
        "a=2\n",
        "b=2\n",
        "print('the sum of two numbers is' ,a+b)"
      ],
      "execution_count": null,
      "outputs": [
        {
          "output_type": "stream",
          "text": [
            "the sum of two numbers is 4\n"
          ],
          "name": "stdout"
        }
      ]
    },
    {
      "cell_type": "markdown",
      "metadata": {
        "id": "j-W8ekIb9lD0",
        "colab_type": "text"
      },
      "source": [
        "SUBTRACTION PROGRAM"
      ]
    },
    {
      "cell_type": "code",
      "metadata": {
        "id": "vb2ZteZ99qnm",
        "colab_type": "code",
        "colab": {
          "base_uri": "https://localhost:8080/",
          "height": 34
        },
        "outputId": "5ef1b6fc-4807-441f-bc2d-e98edbe087ee"
      },
      "source": [
        "a=5\n",
        "b=2\n",
        "print('the difference of two numbers is ',a-b)"
      ],
      "execution_count": null,
      "outputs": [
        {
          "output_type": "stream",
          "text": [
            "the difference of two numbers is  3\n"
          ],
          "name": "stdout"
        }
      ]
    },
    {
      "cell_type": "markdown",
      "metadata": {
        "id": "Zg7sFp7s--SE",
        "colab_type": "text"
      },
      "source": [
        "MULTIPLICATION PROGRAM"
      ]
    },
    {
      "cell_type": "code",
      "metadata": {
        "id": "mdF7ACml_F8O",
        "colab_type": "code",
        "colab": {
          "base_uri": "https://localhost:8080/",
          "height": 34
        },
        "outputId": "71679858-9d11-4263-ae60-08e2c1214679"
      },
      "source": [
        "a=3\n",
        "b=12\n",
        "print('the product of two numbers is',a*b)"
      ],
      "execution_count": null,
      "outputs": [
        {
          "output_type": "stream",
          "text": [
            "the product of two numbers is 36\n"
          ],
          "name": "stdout"
        }
      ]
    },
    {
      "cell_type": "markdown",
      "metadata": {
        "id": "B7BKxcth_XdJ",
        "colab_type": "text"
      },
      "source": [
        "DIVISION PROGRAM"
      ]
    },
    {
      "cell_type": "code",
      "metadata": {
        "id": "d1X5kS_h_a3K",
        "colab_type": "code",
        "colab": {
          "base_uri": "https://localhost:8080/",
          "height": 34
        },
        "outputId": "d1839490-87c8-4011-9879-70a1df98a7a8"
      },
      "source": [
        "a=20\n",
        "b=5 \n",
        "print('the division of two numers is',a/b)\n"
      ],
      "execution_count": null,
      "outputs": [
        {
          "output_type": "stream",
          "text": [
            "the division of two numers is 4.0\n"
          ],
          "name": "stdout"
        }
      ]
    },
    {
      "cell_type": "markdown",
      "metadata": {
        "id": "aN4TYa-IAiiS",
        "colab_type": "text"
      },
      "source": [
        "MODULUS"
      ]
    },
    {
      "cell_type": "code",
      "metadata": {
        "id": "atFctqr5Al6k",
        "colab_type": "code",
        "colab": {
          "base_uri": "https://localhost:8080/",
          "height": 34
        },
        "outputId": "bdeda058-d7cd-4cd9-af78-ccf0f4613464"
      },
      "source": [
        "a=10\n",
        "b=3\n",
        "print(a%b)"
      ],
      "execution_count": null,
      "outputs": [
        {
          "output_type": "stream",
          "text": [
            "1\n"
          ],
          "name": "stdout"
        }
      ]
    },
    {
      "cell_type": "markdown",
      "metadata": {
        "id": "6Zn9FW-hA4o_",
        "colab_type": "text"
      },
      "source": [
        "EXPONENT"
      ]
    },
    {
      "cell_type": "code",
      "metadata": {
        "id": "dCoXVyrxA5_K",
        "colab_type": "code",
        "colab": {
          "base_uri": "https://localhost:8080/",
          "height": 34
        },
        "outputId": "0a1c3882-9760-486e-b2d4-95e5a5fb184f"
      },
      "source": [
        "a=3\n",
        "b=2\n",
        "print(a**b)"
      ],
      "execution_count": null,
      "outputs": [
        {
          "output_type": "stream",
          "text": [
            "9\n"
          ],
          "name": "stdout"
        }
      ]
    },
    {
      "cell_type": "markdown",
      "metadata": {
        "id": "VZcCXsZKBWoJ",
        "colab_type": "text"
      },
      "source": [
        "FLOOR DIVISION"
      ]
    },
    {
      "cell_type": "code",
      "metadata": {
        "id": "nachD13yBYxb",
        "colab_type": "code",
        "colab": {
          "base_uri": "https://localhost:8080/",
          "height": 34
        },
        "outputId": "72df85c6-27be-4844-8334-e1299c9303b9"
      },
      "source": [
        "a=3\n",
        "b=2\n",
        "print(a//b)"
      ],
      "execution_count": null,
      "outputs": [
        {
          "output_type": "stream",
          "text": [
            "1\n"
          ],
          "name": "stdout"
        }
      ]
    },
    {
      "cell_type": "markdown",
      "metadata": {
        "id": "CV6vCPpNCBLA",
        "colab_type": "text"
      },
      "source": [
        "Program to calculate simple **interest**"
      ]
    },
    {
      "cell_type": "code",
      "metadata": {
        "id": "9sduksMnCHxJ",
        "colab_type": "code",
        "colab": {
          "base_uri": "https://localhost:8080/",
          "height": 85
        },
        "outputId": "7191adba-6906-4be3-ccb6-424afd6c39ae"
      },
      "source": [
        "P = float(input(\"Enter the principal amount : \"))\n",
        "N = float(input(\"Enter the number of years : \"))\n",
        "R = float(input(\"Enter the rate of interest : \"))\n",
        "SI = (P * N * R)/100\n",
        "print(\"Simple interest :\",SI)"
      ],
      "execution_count": null,
      "outputs": [
        {
          "output_type": "stream",
          "text": [
            "Enter the principal amount : 1000\n",
            "Enter the number of years : 3\n",
            "Enter the rate of interest : 5\n",
            "Simple interest : 150.0\n"
          ],
          "name": "stdout"
        }
      ]
    },
    {
      "cell_type": "markdown",
      "metadata": {
        "id": "9d2azNluGPhM",
        "colab_type": "text"
      },
      "source": [
        "Program to find Area Of **Circle**"
      ]
    },
    {
      "cell_type": "code",
      "metadata": {
        "id": "WqbaJXI2GRR-",
        "colab_type": "code",
        "colab": {
          "base_uri": "https://localhost:8080/",
          "height": 51
        },
        "outputId": "f03b8dcd-63df-4465-82be-a7959e25a9df"
      },
      "source": [
        "PI = 3.14\n",
        "radius = float(input(' Please Enter the radius of a circle: '))\n",
        "area = PI * radius * radius\n",
        "print(\" Area Of a Circle = \",area)"
      ],
      "execution_count": null,
      "outputs": [
        {
          "output_type": "stream",
          "text": [
            " Please Enter the radius of a circle: 5\n",
            " Area Of a Circle =  78.5\n"
          ],
          "name": "stdout"
        }
      ]
    },
    {
      "cell_type": "markdown",
      "metadata": {
        "id": "0HnH4NpwHYIW",
        "colab_type": "text"
      },
      "source": [
        "Program to calculate area of triangle"
      ]
    },
    {
      "cell_type": "code",
      "metadata": {
        "id": "KPWtQAYUHlqM",
        "colab_type": "code",
        "colab": {
          "base_uri": "https://localhost:8080/",
          "height": 68
        },
        "outputId": "c58ca6fb-4d09-434e-fd04-e6712e66454a"
      },
      "source": [
        "a = float(input('Enter base of the triangle: '))\n",
        "b = float(input('Enter height of triangle: '))\n",
        "area = 0.5*(a)*(b)\n",
        "print('The area of the triangle is ',area)"
      ],
      "execution_count": null,
      "outputs": [
        {
          "output_type": "stream",
          "text": [
            "Enter base of the triangle: 10\n",
            "Enter height of triangle: 5\n",
            "The area of the triangle is  25.0\n"
          ],
          "name": "stdout"
        }
      ]
    },
    {
      "cell_type": "markdown",
      "metadata": {
        "id": "RNb0w-p-Itsu",
        "colab_type": "text"
      },
      "source": [
        "Program to convert temperature in celsius to fahrenheit"
      ]
    },
    {
      "cell_type": "code",
      "metadata": {
        "id": "YmxCHSwtJwiY",
        "colab_type": "code",
        "colab": {
          "base_uri": "https://localhost:8080/",
          "height": 51
        },
        "outputId": "d8baaf59-2b2b-41d5-e4de-b943623c2379"
      },
      "source": [
        "c =float(input('enter celcius temperature'))\n",
        "fahrenheit = (c* 1.8) + 32\n",
        "print('temperature in fahrenheit is',fahrenheit)"
      ],
      "execution_count": null,
      "outputs": [
        {
          "output_type": "stream",
          "text": [
            "enter celcius temperature37\n",
            "temperature in fahrenheit is 98.60000000000001\n"
          ],
          "name": "stdout"
        }
      ]
    },
    {
      "cell_type": "markdown",
      "metadata": {
        "id": "3-0tRUUNK3Sf",
        "colab_type": "text"
      },
      "source": [
        "Program to calculate area of rectangle"
      ]
    },
    {
      "cell_type": "code",
      "metadata": {
        "id": "rj5-KDFcK4Sv",
        "colab_type": "code",
        "colab": {
          "base_uri": "https://localhost:8080/",
          "height": 68
        },
        "outputId": "be1f68b0-b606-4d7d-ac38-7478563e9954"
      },
      "source": [
        "length = float(input('Please Enter the Length of a Triangle: '))\n",
        "width = float(input('Please Enter the Width of a Triangle: '))\n",
        "area = length*width\n",
        "print(\"The Area of a Rectangle is \", area)"
      ],
      "execution_count": null,
      "outputs": [
        {
          "output_type": "stream",
          "text": [
            "Please Enter the Length of a Triangle: 5\n",
            "Please Enter the Width of a Triangle: 5\n",
            "The Area of a Rectangle is  25.0\n"
          ],
          "name": "stdout"
        }
      ]
    },
    {
      "cell_type": "markdown",
      "metadata": {
        "id": "RDixftmmLz06",
        "colab_type": "text"
      },
      "source": [
        "Program to find Perimeter of Square"
      ]
    },
    {
      "cell_type": "code",
      "metadata": {
        "id": "gc-A0E1KMEY8",
        "colab_type": "code",
        "colab": {
          "base_uri": "https://localhost:8080/",
          "height": 51
        },
        "outputId": "d0352022-021e-4231-8375-6acf96747aaf"
      },
      "source": [
        "s=int(input(\"Side : \"))\n",
        "perimeter=4*s\n",
        "print(\"Perimeter of Rectangle : \",perimeter)"
      ],
      "execution_count": null,
      "outputs": [
        {
          "output_type": "stream",
          "text": [
            "Side : 5\n",
            "Perimeter of Rectangle :  20\n"
          ],
          "name": "stdout"
        }
      ]
    },
    {
      "cell_type": "markdown",
      "metadata": {
        "id": "hKT1lzgVM0_O",
        "colab_type": "text"
      },
      "source": [
        "Program to find circumferance of circle"
      ]
    },
    {
      "cell_type": "code",
      "metadata": {
        "id": "ArxYYLu_M_aD",
        "colab_type": "code",
        "colab": {
          "base_uri": "https://localhost:8080/",
          "height": 51
        },
        "outputId": "ccbd6081-125c-444d-aa3e-385516c6c919"
      },
      "source": [
        "PI = 3.14\n",
        "radius = float(input(' Please Enter the radius of a circle: '))\n",
        "circumference = 2 * PI * radius\n",
        "print(\"Circumference of the circle is : \" , circumference)"
      ],
      "execution_count": null,
      "outputs": [
        {
          "output_type": "stream",
          "text": [
            " Please Enter the radius of a circle: 5\n",
            "Circumference of the circle is :  31.400000000000002\n"
          ],
          "name": "stdout"
        }
      ]
    }
  ]
}